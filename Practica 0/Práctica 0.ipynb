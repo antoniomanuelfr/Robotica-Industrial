{
 "cells": [
  {
   "cell_type": "markdown",
   "metadata": {},
   "source": [
    "# Introducción a Jupyter, Numpy y Matplotlib"
   ]
  },
  {
   "cell_type": "markdown",
   "metadata": {},
   "source": [
    "## Inicialización de una libreta Jupyter"
   ]
  },
  {
   "cell_type": "markdown",
   "metadata": {},
   "source": [
    "Para inicializar la libreta y poderla utilizar con mumpy y matplotlib, y asegurarse que los gráficos se presenten donde deben de estar es necesario ejecutar las siguientes instrucciones:"
   ]
  },
  {
   "cell_type": "code",
   "execution_count": 3,
   "metadata": {},
   "outputs": [],
   "source": [
    "%matplotlib inline\n",
    "import numpy as np\n",
    "import matplotlib.pyplot as plt"
   ]
  },
  {
   "cell_type": "markdown",
   "metadata": {},
   "source": [
    "Recuerda que hay que ejecutar cada celda (cell) con *ctrl-enter* o con el simbolo de la flechita arriba de la libreta.\n",
    "\n",
    "La primer linea es un comando específico de Ipython conocidos como *comandos mágicos*. En este comando le especificamos a la libreta que vamos a utilizar matplotlib para hacer gráficas y que queremos que las anexe dentro del documento. Existen muchos comandos mágicos, algunos muy útiles que vamos a ir viendo sobre la marcha, por ejempo el comando `%time` para medir el tiempo de ejecución de una celda, o `%timeit` para ejecutar en bucle un comando y obtener una estimación del tiempo de cómputo promedio. Para una explicacion completa está la libreta http://nbviewer.ipython.or%g/github/ipython/ipython/blob/1.x/examples/notebooks/Cell%20Magics.ipynb. \n",
    "\n",
    "En versiones nuevas de **Jupyter**, podemos utilizar el *cell magic* `%matplotlib notebook`, que crea un lugar en el que se van a visualizar todas las imágenes del notebook. Según el caso, esto puede ser más o menos conveniente, pero aquí somos muy tradicionales y vamos a usar el anterior. \n"
   ]
  },
  {
   "cell_type": "markdown",
   "metadata": {},
   "source": [
    "## Inicializando variables en Numpy"
   ]
  },
  {
   "cell_type": "markdown",
   "metadata": {},
   "source": [
    "Numpy es la librería por excelencia para el cálculo científico. Gracias a Numpy podemos trabajar con objetos que son arrays multidimensionales con un alto rendimiento, usando las herramientas que provee. Es, hablando rápidamente, una potente alternativa a MATLAB. \n",
    "\n",
    "Numpy agrega a python básicamente dos nuevos tipos o clases, de los cuales solo nos vamos a interesar por los arrays multidimensionales o `ndarray`. La manera más sencilla de crear un array (vector o matriz) es utilizando `array` como:"
   ]
  },
  {
   "cell_type": "code",
   "execution_count": 4,
   "metadata": {},
   "outputs": [
    {
     "name": "stdout",
     "output_type": "stream",
     "text": [
      "vector a = [ 1.      3.1416 40.      0.      2.      5.    ]\n",
      "matriz A = [[1 2]\n",
      " [3 4]\n",
      " [5 6]]\n"
     ]
    }
   ],
   "source": [
    "# Crea un objeto vector\n",
    "vector_a = np.array([1, 3.1416, 40, 0, 2, 5])\n",
    "print(\"vector a = \"+str(vector_a))\n",
    "\n",
    "# Crea una matriz\n",
    "matriz_A = np.array([[1, 2], [3, 4], [5, 6]])\n",
    "print(\"matriz A = \"+str(matriz_A))"
   ]
  },
  {
   "cell_type": "markdown",
   "metadata": {},
   "source": [
    "Esta es la manera más directa para crear arrays, pero no es la única. Existen otras formas de crear arrays según el tipo de datos que queremos que contengan: \n",
    "\n",
    "* arange(ini=0, fin, inc=1): Devuelve un ndarray iniciando en ini y terminando en fin, con incrementos de inc\n",
    "\n",
    "* zeros(dim): Devuelve un ndarray de dimensión dim (si es un escalar se considera un vector, si es una tupla de números entonces\n",
    "son las dimensiones del ndarray), con todas sus entradas en cero. \n",
    "      \n",
    "* ones(dim): Similar a zeros() pero con unos.\n",
    "    \n",
    "* eye(x, y=none): si solo se tiene el argumento x devuelve una matriz identidad de $x \\times x$. Si se encuentra y,\n",
    "entonces una matriz diagonal rectangular de dimensión x por y.\n",
    "      \n",
    "* zeros_like( x ): Un ndarray de ceros de la misma dimensión que x (igual existe ones_like).\n",
    "    \n",
    "* linspace(inicial, final, elementos): Devuelve un ndarray de una dimensión iniciando en inicial, hasta final de \n",
    "manera que existan elementos numeros igualmente espaciados. Muy útil para graficación principalmente.\n",
    "      \n",
    "* random.rand(dim1, dim2, ...): Devuelve un ndarray de dimensiones dim1 por dim2 por ... con números aleatorios\n",
    "generados por una distribución uniforme entre 0 y 1. \n",
    "      \n",
    "Veamos unos cuantos ejemplos:"
   ]
  },
  {
   "cell_type": "code",
   "execution_count": 6,
   "metadata": {},
   "outputs": [
    {
     "name": "stdout",
     "output_type": "stream",
     "text": [
      "Un vector de ceros con 5 valores\n",
      "[0. 0. 0. 0. 0.]\n"
     ]
    }
   ],
   "source": [
    "vZ = np.zeros(5)\n",
    "print(\"Un vector de ceros con 5 valores\")\n",
    "print(vZ)"
   ]
  },
  {
   "cell_type": "code",
   "execution_count": 7,
   "metadata": {},
   "outputs": [
    {
     "name": "stdout",
     "output_type": "stream",
     "text": [
      "Una matriz de 3 x 10 sólo con unos\n",
      "[[1. 1. 1. 1. 1. 1. 1. 1. 1. 1.]\n",
      " [1. 1. 1. 1. 1. 1. 1. 1. 1. 1.]\n",
      " [1. 1. 1. 1. 1. 1. 1. 1. 1. 1.]]\n"
     ]
    }
   ],
   "source": [
    "mO = np.ones((3, 10))\n",
    "print(\"Una matriz de 3 x 10 sólo con unos\")\n",
    "print(mO)"
   ]
  },
  {
   "cell_type": "code",
   "execution_count": 8,
   "metadata": {},
   "outputs": [
    {
     "name": "stdout",
     "output_type": "stream",
     "text": [
      "va = \n",
      "[0 1 2 3 4 5 6 7 8 9]\n"
     ]
    }
   ],
   "source": [
    "# Utilizaremos arange más adelante para crear intervalos de tiempo\n",
    "va = np.arange(10)\n",
    "print(\"va = \")\n",
    "print(va)"
   ]
  },
  {
   "cell_type": "code",
   "execution_count": 9,
   "metadata": {},
   "outputs": [
    {
     "name": "stdout",
     "output_type": "stream",
     "text": [
      "vb = \n",
      "[-1.00000000e+00 -9.00000000e-01 -8.00000000e-01 -7.00000000e-01\n",
      " -6.00000000e-01 -5.00000000e-01 -4.00000000e-01 -3.00000000e-01\n",
      " -2.00000000e-01 -1.00000000e-01 -2.22044605e-16  1.00000000e-01\n",
      "  2.00000000e-01  3.00000000e-01  4.00000000e-01  5.00000000e-01\n",
      "  6.00000000e-01  7.00000000e-01  8.00000000e-01  9.00000000e-01]\n"
     ]
    }
   ],
   "source": [
    "vb = np.arange(-1,1,0.1)\n",
    "print(\"vb = \")\n",
    "print(vb)"
   ]
  },
  {
   "cell_type": "code",
   "execution_count": 10,
   "metadata": {},
   "outputs": [
    {
     "name": "stdout",
     "output_type": "stream",
     "text": [
      "Y una matriz de ceros de las dimensiones de mO:\n",
      "[[0. 0. 0. 0. 0. 0. 0. 0. 0. 0.]\n",
      " [0. 0. 0. 0. 0. 0. 0. 0. 0. 0.]\n",
      " [0. 0. 0. 0. 0. 0. 0. 0. 0. 0.]]\n"
     ]
    }
   ],
   "source": [
    "print(\"Y una matriz de ceros de las dimensiones de mO:\")\n",
    "print(np.zeros_like(mO))"
   ]
  },
  {
   "cell_type": "code",
   "execution_count": 11,
   "metadata": {},
   "outputs": [
    {
     "name": "stdout",
     "output_type": "stream",
     "text": [
      "También podemos crearla como:\n",
      "[[0. 0. 0. 0. 0. 0. 0. 0. 0. 0.]\n",
      " [0. 0. 0. 0. 0. 0. 0. 0. 0. 0.]\n",
      " [0. 0. 0. 0. 0. 0. 0. 0. 0. 0.]]\n"
     ]
    }
   ],
   "source": [
    "print(\"También podemos crearla como:\")\n",
    "print(np.zeros(mO.shape))"
   ]
  },
  {
   "cell_type": "code",
   "execution_count": 12,
   "metadata": {},
   "outputs": [
    {
     "name": "stdout",
     "output_type": "stream",
     "text": [
      "Y una matriz con números aleatorios bajo una distribución uniforme entre 0 y 1\n",
      "[[4.44498693e-01 3.54865610e-01 7.89820708e-01 8.73453835e-01\n",
      "  4.78487203e-01 7.73677971e-02 8.85486564e-01 4.81101008e-01\n",
      "  5.30584140e-01 2.31271168e-01 4.54970291e-01 9.80137963e-01]\n",
      " [9.67500866e-01 3.63173812e-01 3.79499759e-01 5.05166771e-01\n",
      "  7.14443987e-01 7.33053833e-01 1.37702935e-01 6.75727064e-01\n",
      "  4.12724190e-01 2.38438355e-01 2.85658327e-01 3.35328584e-02]\n",
      " [6.62910164e-01 3.67894803e-01 6.97524476e-01 5.79137665e-01\n",
      "  7.96641560e-01 3.94963295e-04 7.77301763e-01 6.99620031e-01\n",
      "  2.25577414e-02 6.24906104e-01 2.29681693e-01 8.95717101e-01]\n",
      " [9.83914524e-01 8.98009221e-01 7.95889589e-01 6.96792838e-01\n",
      "  1.37500194e-01 2.15692577e-01 5.86416095e-01 4.87455723e-02\n",
      "  6.03771665e-01 9.82273048e-01 3.10350560e-01 2.22795286e-01]\n",
      " [3.91548757e-02 3.56413810e-01 1.75126381e-01 4.33221650e-01\n",
      "  3.65997906e-01 4.35521249e-01 9.71075653e-01 8.48450999e-01\n",
      "  4.53613849e-01 4.86887943e-01 8.47661973e-01 2.27616173e-01]]\n"
     ]
    }
   ],
   "source": [
    "mA = np.random.rand(5, 12)\n",
    "print(\"Y una matriz con números aleatorios bajo una distribución uniforme entre 0 y 1\")\n",
    "print(mA)"
   ]
  },
  {
   "cell_type": "markdown",
   "metadata": {},
   "source": [
    "### Primer problema a resolver (20 puntos): "
   ]
  },
  {
   "cell_type": "markdown",
   "metadata": {},
   "source": [
    "En la siguiente celda (o puedes crear las que consideres convenientes) crea las siguientes matrices:\n",
    "\n",
    "* Una matriz de 4 por 6 con valores aleatorios de acuerdo a una distribución normal con media cero y varianza unitaria.\n",
    "    \n",
    "* Un vector de 10 elementos con valores aleatorios de números enteros entre 4 y 100 (randint)\n",
    "    \n",
    "* Una matriz diagonal de 5 por 5 cuyos elementos de la diagonal sean (1, 2, 3, 4, 5)"
   ]
  },
  {
   "cell_type": "code",
   "execution_count": 25,
   "metadata": {},
   "outputs": [
    {
     "name": "stdout",
     "output_type": "stream",
     "text": [
      "[[-0.36046855  0.49671523 -1.36703005 -1.28378662 -0.50545613 -0.8324944 ]\n",
      " [ 0.97452132 -1.04900751 -1.11052961  0.94826375  2.22135478  0.63828004]\n",
      " [ 1.41949795  0.96803907  1.5331627  -1.07699138 -0.63396091  0.32292276]\n",
      " [ 0.26115434 -0.46612075  0.32337803  0.18085174 -0.19145215  0.52018929]]\n",
      "[99 15 34 19 85 63  8 71 40 68]\n",
      "[[1 0 0 0 0]\n",
      " [0 2 0 0 0]\n",
      " [0 0 3 0 0]\n",
      " [0 0 0 4 0]\n",
      " [0 0 0 0 5]]\n"
     ]
    }
   ],
   "source": [
    "# Espacio para realizar el problema\n",
    "matrix = np.random.normal(loc=0, scale=1, size=(4,6))\n",
    "print (str(matrix))\n",
    "vector = np.random.randint(low=4, high=100, size=10)\n",
    "print (str(vector))\n",
    "diag = np.diag(np.arange(1,6))\n",
    "print(str(diag))"
   ]
  },
  {
   "cell_type": "markdown",
   "metadata": {},
   "source": [
    "## Operaciones básicas de los ndarray"
   ]
  },
  {
   "cell_type": "markdown",
   "metadata": {},
   "source": [
    "La mayoría de las operaciones que se pueden aplicar e los ndarray se encuenran en el espacio de nombres de np, y las cuales son bastante directas tal como:\n",
    "\n",
    "    b = np.sin(a)\n",
    "\n",
    "la cual devuelve en b un ndarray de las mismas dimensiones que a, cuyas entradas son el seno de las entradas de a (en radianes).\n",
    "Así, parece inecesario explicar las funciones cos, tan, tanh, acos, asin, etc..\n",
    "\n",
    "Otras funciones muy útiles no son tan directas. Veamos algunas:\n",
    "\n",
    "    c = a + b\n",
    "\n",
    "es la suma de dos ndarray, bastante obvio, lo que no lo es tanto es:\n",
    "\n",
    "    c = a * b\n",
    "\n",
    "la cual es un ndarray resultante de la *multiplicación punto a punto* de los elementos de a y b, asumiendo que ambos tienen\n",
    "las mismas diensiones. ¿Y para aplicar un producto matricial? Pues se utiliza el comando dot (o producto punto) el cual puede ser\n",
    "expresado de dos formas:\n",
    "\n",
    "    c = np.dot(a, b)\n",
    "    c = a.dot(b)\n",
    "\n",
    "La suma de los elementos de un ndarray tambien es un método del objeto (como min, max, argmin, argmax, etc...)\n",
    "\n",
    "    b = a.sum()\n",
    "\n",
    "es la suma de *todos los elementos del array* mientras que\n",
    "\n",
    "    b = a.sum(axis=0) \n",
    "\n",
    "es un ndarray con una dimensión menos que a, con la suma de las columnas. Veamos unos ejemplos:"
   ]
  },
  {
   "cell_type": "code",
   "execution_count": 26,
   "metadata": {},
   "outputs": [
    {
     "name": "stdout",
     "output_type": "stream",
     "text": [
      "a = \n",
      "[[1 2 3]\n",
      " [4 5 6]]\n",
      "b = \n",
      "[[0.55113737 0.54891174 0.0166377 ]\n",
      " [0.81487325 0.19380111 0.55200227]]\n",
      "Suma de todos los números de b\n",
      "2.677363441174527\n",
      "Media de cada columna de a\n",
      "[2.5 3.5 4.5]\n",
      "Transpuesta de a, forma larga\n",
      "[[1 4]\n",
      " [2 5]\n",
      " [3 6]]\n",
      "Transpuesta de a, forma preferida\n",
      "[[1 4]\n",
      " [2 5]\n",
      " [3 6]]\n",
      "10 * b = \n",
      "[[5.51137373 5.4891174  0.16637695]\n",
      " [8.1487325  1.93801114 5.52002268]]\n",
      "a * b =\n",
      "[[0.55113737 1.09782348 0.04991309]\n",
      " [3.259493   0.96900557 3.31201361]]\n",
      "2 elevado a la matriz a\n",
      "[[ 2  4  8]\n",
      " [16 32 64]]\n",
      "a elevada al cuadrado (elemento a elemento)\n",
      "[[ 1  4  9]\n",
      " [16 25 36]]\n",
      "a.dot(b.T) = \n",
      "[[1.69887394 2.85848228]\n",
      " [5.04893436 7.54051218]]\n",
      "a.dot(b) debería dar error\n"
     ]
    },
    {
     "ename": "ValueError",
     "evalue": "shapes (2,3) and (2,3) not aligned: 3 (dim 1) != 2 (dim 0)",
     "traceback": [
      "\u001b[0;31m---------------------------------------------------------------------------\u001b[0m",
      "\u001b[0;31mValueError\u001b[0m                                Traceback (most recent call last)",
      "\u001b[0;32m<ipython-input-26-95a52d012b03>\u001b[0m in \u001b[0;36m<module>\u001b[0;34m\u001b[0m\n\u001b[1;32m     37\u001b[0m \u001b[0;34m\u001b[0m\u001b[0m\n\u001b[1;32m     38\u001b[0m \u001b[0mprint\u001b[0m \u001b[0;34m(\u001b[0m\u001b[0;34m\"a.dot(b) debería dar error\"\u001b[0m\u001b[0;34m)\u001b[0m\u001b[0;34m\u001b[0m\u001b[0;34m\u001b[0m\u001b[0m\n\u001b[0;32m---> 39\u001b[0;31m \u001b[0mprint\u001b[0m \u001b[0;34m(\u001b[0m\u001b[0ma\u001b[0m\u001b[0;34m.\u001b[0m\u001b[0mdot\u001b[0m\u001b[0;34m(\u001b[0m\u001b[0mb\u001b[0m\u001b[0;34m)\u001b[0m\u001b[0;34m)\u001b[0m\u001b[0;34m\u001b[0m\u001b[0;34m\u001b[0m\u001b[0m\n\u001b[0m",
      "\u001b[0;31mValueError\u001b[0m: shapes (2,3) and (2,3) not aligned: 3 (dim 1) != 2 (dim 0)"
     ],
     "output_type": "error"
    }
   ],
   "source": [
    "# Vamos a generar varios ndarrays\n",
    "a = np.array([[1, 2, 3], [4, 5, 6]])\n",
    "b = np.random.rand(2, 3)\n",
    "\n",
    "print (\"a = \")\n",
    "print (a)\n",
    "\n",
    "print (\"b = \")\n",
    "print (b)\n",
    "\n",
    "print (\"Suma de todos los números de b\")\n",
    "print (b.sum())\n",
    "\n",
    "print (\"Media de cada columna de a\")\n",
    "print (a.mean(axis=0))\n",
    "\n",
    "print (\"Transpuesta de a, forma larga\")\n",
    "print (a.transpose())\n",
    "\n",
    "print (\"Transpuesta de a, forma preferida\")\n",
    "print (a.T)\n",
    "\n",
    "print (\"10 * b = \")\n",
    "print (10 * b)\n",
    "\n",
    "print (\"a * b =\")\n",
    "print (a * b)\n",
    "\n",
    "print (\"2 elevado a la matriz a\")\n",
    "print (np.power(2, a))\n",
    "\n",
    "print (\"a elevada al cuadrado (elemento a elemento)\")\n",
    "print (a**2)\n",
    "\n",
    "print (\"a.dot(b.T) = \")\n",
    "print (a.dot(b.T))\n",
    "\n",
    "print (\"a.dot(b) debería dar error\")\n",
    "print (a.dot(b))"
   ]
  },
  {
   "cell_type": "markdown",
   "metadata": {},
   "source": [
    "Como vemos tenemos aqui una bateria completa de funciones, las cuales se aplican en un ndarray. ¿Pero que información tengo de un ndarray? ¿Como puedo componer un ndarray a partir de otros? \n",
    "\n",
    "Un ndarray, una vez definido, utiliza una sintaxis muy parecida a la de Matlab para poder tomar partes de el. Asumamos por ejemplo un ndarray de una dimensión:"
   ]
  },
  {
   "cell_type": "code",
   "execution_count": 29,
   "metadata": {},
   "outputs": [
    {
     "name": "stdout",
     "output_type": "stream",
     "text": [
      "[[8 1 3 9 7]\n",
      " [5 6 7 9 2]\n",
      " [2 2 3 5 6]\n",
      " [8 8 5 1 2]\n",
      " [2 5 7 3 4]]\n"
     ]
    },
    {
     "data": {
      "text/plain": [
       "array([[8, 8, 5, 1, 2],\n",
       "       [2, 2, 3, 5, 6]])"
      ]
     },
     "execution_count": 29,
     "metadata": {},
     "output_type": "execute_result"
    }
   ],
   "source": [
    "a = np.random.randint(1,10,(5,5))\n",
    "print(a)\n",
    "a[3:1:-1,:]"
   ]
  },
  {
   "cell_type": "code",
   "execution_count": 45,
   "metadata": {},
   "outputs": [
    {
     "name": "stdout",
     "output_type": "stream",
     "text": [
      "El número de dimensiones de a es:  1\n",
      "Y su forma es  (100,)\n",
      "Y tiene  100  elementos\n",
      "[ 0  1  2  3  4  5  6  7  8  9 10 11 12 13 14 15 16 17 18 19]\n",
      "[20 21 22 23 24 25 26 27 28 29 30 31 32 33 34 35 36 37 38 39 40 41 42 43\n",
      " 44 45 46 47 48 49 50 51 52 53 54 55 56 57 58 59 60 61 62 63 64 65 66 67\n",
      " 68 69 70 71 72 73 74 75 76 77 78 79 80 81 82 83 84 85 86 87 88 89 90 91\n",
      " 92 93 94 95 96 97 98 99]\n",
      "[99 98 97 96 95 94 93 92 91]\n",
      "[10]\n",
      "[99 98 97 96 95 94 93 92 91 90 89 88 87 86 85 84 83 82 81 80 79 78 77 76\n",
      " 75 74 73 72 71 70 69 68 67 66 65 64 63 62 61 60 59 58 57 56 55 54 53 52\n",
      " 51 50 49 48 47 46 45 44 43 42 41 40 39 38 37 36 35 34 33 32 31 30 29 28\n",
      " 27 26 25 24 23 22 21 20 19 18 17 16 15 14 13 12 11 10  9  8  7  6  5  4\n",
      "  3  2  1  0]\n",
      "[ 0  5 10 15 20 25 30 35 40 45 50 55 60 65 70 75 80 85 90 95]\n",
      "[98 84 39]\n"
     ]
    }
   ],
   "source": [
    "#Generamos el ndarray\n",
    "a = np.arange(100)\n",
    "\n",
    "# Chacamos algunas propiedades\n",
    "print (\"El número de dimensiones de a es: \", a.ndim)\n",
    "print (\"Y su forma es \", a.shape)\n",
    "print (\"Y tiene \", a.size, \" elementos\")\n",
    "\n",
    "#Generamos algunos ndarrays a partir de a\n",
    "b, c = a[:20], a[20:]\n",
    "d, e = a[-1:-10:-1], a[10:11]\n",
    "f = a[::-1]\n",
    "g = a[a % 5 == 0]\n",
    "h = f[[1, 15, 60]]\n",
    "\n",
    "# Ahora trata de inferir que es lo que debe contener cada array b, c, d, e, f, g, h sin hacer ninguna prueba.\n",
    "# b primeros 20 elementos de a, c elementos desde la posicion 20 hasta el final\n",
    "# d elementos desde la ultima posicion hasta la 90 e 10 posicion\n",
    "# f  a en orden contrario\n",
    "# g aquellas posiciones en a que son multiplos de 5\n",
    "# h posiciones 1, 15,60 del vector f\n",
    "# Agrega ahora los print que consideres necesarios para verificar que valores tiene b, c, d, e, f, g, h \n",
    "print (b)\n",
    "print (c)\n",
    "print (d)\n",
    "print (e)\n",
    "print (f)\n",
    "print (g)\n",
    "print (h)\n"
   ]
  },
  {
   "cell_type": "markdown",
   "metadata": {},
   "source": [
    "A partir de una matriz (un ndarray de dos dimensiones) se pueden ejemplificar otras cosas, por ejemplo:"
   ]
  },
  {
   "cell_type": "code",
   "execution_count": 46,
   "metadata": {},
   "outputs": [
    {
     "name": "stdout",
     "output_type": "stream",
     "text": [
      "b queda como: \n",
      "[[ 0.00000000e+00  6.34239197e-02  1.26592454e-01  1.89251244e-01\n",
      "   2.51147987e-01  3.12033446e-01  3.71662456e-01  4.29794912e-01\n",
      "   4.86196736e-01  5.40640817e-01]\n",
      " [ 5.92907929e-01  6.42787610e-01  6.90079011e-01  7.34591709e-01\n",
      "   7.76146464e-01  8.14575952e-01  8.49725430e-01  8.81453363e-01\n",
      "   9.09631995e-01  9.34147860e-01]\n",
      " [ 9.54902241e-01  9.71811568e-01  9.84807753e-01  9.93838464e-01\n",
      "   9.98867339e-01  9.99874128e-01  9.96854776e-01  9.89821442e-01\n",
      "   9.78802446e-01  9.63842159e-01]\n",
      " [ 9.45000819e-01  9.22354294e-01  8.95993774e-01  8.66025404e-01\n",
      "   8.32569855e-01  7.95761841e-01  7.55749574e-01  7.12694171e-01\n",
      "   6.66769001e-01  6.18158986e-01]\n",
      " [ 5.67059864e-01  5.13677392e-01  4.58226522e-01  4.00930535e-01\n",
      "   3.42020143e-01  2.81732557e-01  2.20310533e-01  1.58001396e-01\n",
      "   9.50560433e-02  3.17279335e-02]\n",
      " [-3.17279335e-02 -9.50560433e-02 -1.58001396e-01 -2.20310533e-01\n",
      "  -2.81732557e-01 -3.42020143e-01 -4.00930535e-01 -4.58226522e-01\n",
      "  -5.13677392e-01 -5.67059864e-01]\n",
      " [-6.18158986e-01 -6.66769001e-01 -7.12694171e-01 -7.55749574e-01\n",
      "  -7.95761841e-01 -8.32569855e-01 -8.66025404e-01 -8.95993774e-01\n",
      "  -9.22354294e-01 -9.45000819e-01]\n",
      " [-9.63842159e-01 -9.78802446e-01 -9.89821442e-01 -9.96854776e-01\n",
      "  -9.99874128e-01 -9.98867339e-01 -9.93838464e-01 -9.84807753e-01\n",
      "  -9.71811568e-01 -9.54902241e-01]\n",
      " [-9.34147860e-01 -9.09631995e-01 -8.81453363e-01 -8.49725430e-01\n",
      "  -8.14575952e-01 -7.76146464e-01 -7.34591709e-01 -6.90079011e-01\n",
      "  -6.42787610e-01 -5.92907929e-01]\n",
      " [-5.40640817e-01 -4.86196736e-01 -4.29794912e-01 -3.71662456e-01\n",
      "  -3.12033446e-01 -2.51147987e-01 -1.89251244e-01 -1.26592454e-01\n",
      "  -6.34239197e-02 -2.44929360e-16]]\n",
      "donde b tiene  2  dimensiones, con una forma  (10, 10) y con  100  elementos.\n"
     ]
    }
   ],
   "source": [
    "#Generamos un arreglo con 100 valores equiespaciados del seno desde 0 a 2$\\pi$\n",
    "a = np.sin(np.linspace(0, 2 * np.pi, 100))\n",
    "\n",
    "#Lo convertimos en una patriz de 10 por (lo que sea), que lo que sea es 10 en este caso, seguro\n",
    "b = a.reshape((10, -1))\n",
    "print (\"b queda como: \")\n",
    "print (b)\n",
    "print (\"donde b tiene \", b.ndim, \" dimensiones, con una forma \", b.shape, \"y con \", b.size, \" elementos.\")"
   ]
  },
  {
   "cell_type": "code",
   "execution_count": 47,
   "metadata": {},
   "outputs": [
    {
     "name": "stdout",
     "output_type": "stream",
     "text": [
      "La diferencia de a y c sería\n",
      "0.0\n"
     ]
    }
   ],
   "source": [
    "#Si queremos convertir un ndarray a un array de una sola dimension \n",
    "c = b.flatten()\n",
    "\n",
    "print (\"La diferencia de a y c sería\")\n",
    "print ((a - c).sum())"
   ]
  },
  {
   "cell_type": "code",
   "execution_count": null,
   "metadata": {},
   "outputs": [],
   "source": [
    "# Si queremos hacer que un vector se comporte como un vector fila\n",
    "a = np.arange(30).reshape(1,-1)\n",
    "print (\"a es de forma \", a.shape)\n",
    "\n",
    "# Y si queremos que sea un vector columna hacemos esto\n",
    "b = np.linspace(30, 35, 30).reshape(-1,1)\n",
    "print (\"b es de forma \", b.shape)\n",
    "\n",
    "# Y para hacer una concatenacion de columnas entonces utilizamps la forma especial np.c[]\n",
    "c = np.c_[a.T, b]\n",
    "print( \"c es de forma \", c.shape)\n",
    "\n",
    "#Y una concatenación de renglones es por lo tanto\n",
    "d = np.r_[a, b.T]\n",
    "print( \"d es de forma \", d.shape)"
   ]
  },
  {
   "cell_type": "markdown",
   "metadata": {},
   "source": [
    "### Segundo problema a resolver (30 puntos)"
   ]
  },
  {
   "cell_type": "markdown",
   "metadata": {},
   "source": [
    "Realiza lo siguiente:\n",
    "\n",
    "* Genera una matriz de 100 por 5 de forma que en cada columna tengamos lo siguiente:\n",
    "    \n",
    "    - En la primer columna los valores entre -1 y 1, equiespaciados\n",
    "    - En la segunda columna el valor de seno para los valores de la primer columna\n",
    "    - En la tercer columna el valor de la función logística de los valores de la primer columna, la cual es $g(x) = \\frac{1}{1 + \\exp(-x)}$\n",
    "    - En la cuarta columna 1 si el valor de $\\sin(x) > 0$ y -1 en otro caso, donde $x$ son los valores de la primer columna (revisa la función np.where)\n",
    "    - En la quinta columna valores aleatorios de acuerdo a una distribución gaussiana con media 1 y varianza 0.5\n",
    "        \n",
    "* Encuentra un arreglo con todos los valores de la función logística, cuando el valor absoluto del seno de x es menor a 0.5\n",
    "    \n",
    "* Convierte este arraglo en una matriz con 5 columnas y los renglones que sean necesarios.\n",
    "        "
   ]
  },
  {
   "cell_type": "markdown",
   "metadata": {},
   "source": [
    "Además de estas funciones, numpy cuenta con funciones del algebra lineal altamente optimizadas (aunque no paralelizadas), las cuales son (entre otras):\n",
    "\n",
    "* `np.linalg.inv(a)`: Inversa de a\n",
    "* `np.linalg.pinv(a)`: Pseudoinversa de Ross-Penrose de a (muy útil para nosotros)\n",
    "* `np.linalg.det(a)`: determinante de a\n",
    "* `np.linalg.eig(a)`: eigenvalores y eigenvectores de a\n",
    "* `np.linalg.svd(a)`: Valores singulares de a"
   ]
  },
  {
   "cell_type": "code",
   "execution_count": 74,
   "metadata": {},
   "outputs": [
    {
     "data": {
      "text/plain": [
       "array([[0.26894142, 0.27293187, 0.2769591 , 0.28102278, 0.28512257],\n",
       "       [0.28925812, 0.29342902, 0.29763488, 0.30187528, 0.30614975],\n",
       "       [0.31045783, 0.31479902, 0.31917283, 0.3235787 , 0.32801609],\n",
       "       [0.33248443, 0.33698311, 0.34151151, 0.34606901, 0.35065493],\n",
       "       [0.35526862, 0.35990936, 0.36457644, 0.36926913, 0.37398667],\n",
       "       [0.37872829, 0.3834932 , 0.38828059, 0.39308964, 0.3979195 ],\n",
       "       [0.40276933, 0.40763825, 0.41252537, 0.41742979, 0.42235061],\n",
       "       [0.42728688, 0.43223768, 0.43720205, 0.44217903, 0.44716765],\n",
       "       [0.45216693, 0.45717588, 0.46219351, 0.46721881, 0.47225076],\n",
       "       [0.47728837, 0.48233059, 0.48737642, 0.49242482, 0.49747477],\n",
       "       [0.50252523, 0.50757518, 0.51262358, 0.51766941, 0.52271163]])"
      ]
     },
     "execution_count": 74,
     "metadata": {},
     "output_type": "execute_result"
    }
   ],
   "source": [
    "# Espacio para realizar el problema\n",
    "m = np.zeros([100,5])\n",
    "m[:,0] = np.linspace(start=-1, stop=1, num=100)\n",
    "m[:,1] = np.sin(m[:,0])\n",
    "m[:,2] = 1/(1+np.exp(-m[:,0]))\n",
    "m[:,3] = np.where(np.sin(m[:,0])>0,1,-1)\n",
    "m[:,4] = np.random.normal(loc=1.0,scale=0.5)\n",
    "arreglo = m[np.abs(np.sin(m[:,2]) < 0.5),2]\n",
    "matriz = arreglo.reshape((-1,5))\n",
    "matriz\n"
   ]
  },
  {
   "cell_type": "markdown",
   "metadata": {},
   "source": [
    "## Haciendo gráficas sencillas con Matplotlib"
   ]
  },
  {
   "cell_type": "markdown",
   "metadata": {},
   "source": [
    "**Matplotlib** es la librería que provee scipy para realizar representación gráfica en 2D y 3D de numerosas variables que vamos a utilizar a lo largo de esta asignatura.\n",
    "\n",
    "La mejor manera de mostrar como funcionan las facilidades que ofrece matplotlib, es mostrando directamente su uso más sencillo, así que veamos un ejemplo muy simple. Es importante recordar que en la primer celda de esta libreta se definió la manera de realizar las gráficas (dentro del documento y no como figuras aparte), así como se cargo matplotlib en el espacio de nombres plt."
   ]
  },
  {
   "cell_type": "code",
   "execution_count": 77,
   "metadata": {},
   "outputs": [
    {
     "data": {
      "text/plain": [
       "[-3.1416, 3.1416, -1.1, 1.1]"
      ]
     },
     "execution_count": 77,
     "metadata": {},
     "output_type": "execute_result"
    },
    {
     "data": {
      "image/png": "[encoded data removed]",
      "text/plain": [
       "<Figure size 432x288 with 1 Axes>"
      ]
     },
     "metadata": {
      "needs_background": "light"
     },
     "output_type": "display_data"
    }
   ],
   "source": [
    "# Vamos a hacerlo pasito a pasito\n",
    "\n",
    "# Primero obtenemos un vector x\n",
    "x = np.linspace(-np.pi, np.pi, 1000)\n",
    "\n",
    "# Luego obtenemos un vector y bastante trivial\n",
    "y = np.sin(x)\n",
    "\n",
    "# Y ahora hacemos una gráfica básica de x y y\n",
    "plt.plot(x, y)\n",
    "plt.xlabel(\"el eje de las x's\")\n",
    "plt.ylabel(\"el eje de las y's\")\n",
    "plt.title(\"Este es un plot normalito\")\n",
    "\n",
    "# Bueno como la gráfica no esta muy bien a lo mejor se ve mejor si modificamos los limites de los ejes\n",
    "plt.axis([-3.1416, 3.1416, -1.1, 1.1])"
   ]
  },
  {
   "cell_type": "markdown",
   "metadata": {},
   "source": [
    "Ahora hagamos una gráfica con varios valores diferentes"
   ]
  },
  {
   "cell_type": "code",
   "execution_count": 81,
   "metadata": {},
   "outputs": [
    {
     "data": {
      "text/plain": [
       "<matplotlib.legend.Legend at 0x7f546001ca90>"
      ]
     },
     "execution_count": 81,
     "metadata": {},
     "output_type": "execute_result"
    },
    {
     "data": {
      "image/png": "[encoded data removed]",
      "text/plain": [
       "<Figure size 432x288 with 1 Axes>"
      ]
     },
     "metadata": {
      "needs_background": "light"
     },
     "output_type": "display_data"
    }
   ],
   "source": [
    "plt.plot(x, np.sin(x), label='seno')\n",
    "\n",
    "plt.plot(x, 1/(1 + np.exp(-x)), label=u\"logística\")\n",
    "\n",
    "plt.plot(x, (0.2 * x * x) - 0.5, label=r'$0.2 x^2 - 0.5$')\n",
    "\n",
    "plt.axis([-3.1416, 3.1416, -1.1, 1.4])\n",
    "\n",
    "plt.title(\"Tres funciones trigonométricas juntas\")\n",
    "plt.xlabel(r\"$\\theta$ (rad)\")\n",
    "plt.ylabel(\"magnitud\")\n",
    "\n",
    "plt.legend(loc=0)"
   ]
  },
  {
   "cell_type": "markdown",
   "metadata": {},
   "source": [
    "Creemos ahora una figura en la que se representan los valores de un vector, y definimos el espacio que queremos ver con `plt.axis()`:"
   ]
  },
  {
   "cell_type": "code",
   "execution_count": 32,
   "metadata": {},
   "outputs": [
    {
     "data": {
      "text/plain": [
       "[-1, 3, 0, 2]"
      ]
     },
     "execution_count": 32,
     "metadata": {},
     "output_type": "execute_result"
    },
    {
     "data": {
      "image/png": "[encoded data removed]",
      "text/plain": [
       "<Figure size 432x288 with 1 Axes>"
      ]
     },
     "metadata": {
      "needs_background": "light"
     },
     "output_type": "display_data"
    }
   ],
   "source": [
    "val_x = np.array([0, 1, 2])\n",
    "val_y = np.array([0, 1, 1])\n",
    "plt.plot(val_x,val_y)\n",
    "plt.axis([-1, 3, 0, 2])"
   ]
  },
  {
   "cell_type": "markdown",
   "metadata": {},
   "source": [
    "Hay muchos tipos de funciones, lo mejor para saber como ustilizar matplotlib es ver la galeria de ejemplo que se encuentran en la ayuda,\n",
    "y pueden consultarse en http://matplotlib.org/gallery.html (al darle click a una imagen se puede ver el código que la genera).\n",
    "\n",
    "Por ejemplo si queremos una gráfica tipo tarta:"
   ]
  },
  {
   "cell_type": "code",
   "execution_count": 33,
   "metadata": {},
   "outputs": [
    {
     "data": {
      "text/plain": [
       "Text(0.5, 0, 'Comida sana')"
      ]
     },
     "execution_count": 33,
     "metadata": {},
     "output_type": "execute_result"
    },
    {
     "data": {
      "image/png": "[encoded data removed]",
      "text/plain": [
       "<Figure size 432x288 with 1 Axes>"
      ]
     },
     "metadata": {},
     "output_type": "display_data"
    }
   ],
   "source": [
    "labels = 'Tortas', 'Tacos', 'Burritos', 'Ensaladas'\n",
    "porcentajes = [15, 30, 45, 10]\n",
    "colores = ['yellowgreen', 'gold', 'lightskyblue', 'lightcoral']\n",
    "separa = (0, 0.1, 0, 0) # solo separa la segunda rebanada (i.e. 'Tacos')\n",
    "\n",
    "plt.pie(porcentajes, explode=separa, labels=labels, colors=colores, autopct='%1.1f%%', shadow=True, startangle=90)\n",
    "plt.axis('equal') #Para que el pay se vea como un círculo\n",
    "plt.xlabel(u'Comida sana')\n"
   ]
  },
  {
   "cell_type": "markdown",
   "metadata": {},
   "source": [
    "O si queremos una gráfica tipo contorno con todo y datos"
   ]
  },
  {
   "cell_type": "code",
   "execution_count": 34,
   "metadata": {},
   "outputs": [
    {
     "name": "stderr",
     "output_type": "stream",
     "text": [
      "/home/antoniomanuelfr/anaconda3/envs/RI/lib/python3.7/site-packages/ipykernel_launcher.py:16: MatplotlibDeprecationWarning: The griddata function was deprecated in Matplotlib 2.2 and will be removed in 3.1. Use scipy.interpolate.griddata instead.\n",
      "  app.launch_new_instance()\n"
     ]
    },
    {
     "data": {
      "text/plain": [
       "Text(0.5, 1.0, 'Prueba para un contorno con datos generados')"
      ]
     },
     "execution_count": 34,
     "metadata": {},
     "output_type": "execute_result"
    },
    {
     "data": {
      "image/png": "[encoded data removed]",
      "text/plain": [
       "<Figure size 432x288 with 2 Axes>"
      ]
     },
     "metadata": {
      "needs_background": "light"
     },
     "output_type": "display_data"
    }
   ],
   "source": [
    "# Genera datos en los ejes x y y de forma uniforme entre -2 y 2\n",
    "# prueba generando 2000 puntos (con y sin colores) pero para \n",
    "# 2000 puntos no vayas a dibujar los valores parque no se va a ver nada.\n",
    "x = np.random.uniform(-2, 2, 200)\n",
    "y = np.random.uniform(-2, 2, 200)\n",
    "\n",
    "# Genera los valores en z en cada punto generado, con la función siguiente\n",
    "z = x * np.exp(-x ** 2 - y ** 2)\n",
    "\n",
    "# define el grid donde se muestran los datos\n",
    "xi = np.linspace(-2.1, 2.1, 100)\n",
    "yi = np.linspace(-2.1, 2.1, 200)\n",
    "\n",
    "# Genera datos de z interpolados para tener mejor presición en el contorno\n",
    "from matplotlib.mlab import griddata\n",
    "zi = griddata(x, y, z, xi, yi, interp='linear')\n",
    "\n",
    "# Hace una gráfica de contorno con únicamente lineas de nivel.\n",
    "plt.contour(xi, yi, zi, 15, linewidths=0.5, colors='k')\n",
    "\n",
    "# Para hacerlo mas acá pues se puede agregar color a cada nivel y agregarle una barra de nivel de color\n",
    "plt.contourf(xi, yi, zi, 15, cmap='inferno', vmax=abs(zi).max(), vmin=-abs(zi).max())\n",
    "plt.colorbar() # draw colorbar\n",
    "\n",
    "# Grafica los puntos generados sobre el contorno.\n",
    "plt.scatter(x, y, marker='o', c='b', s=5, zorder=10)\n",
    "\n",
    "# Hace los límites de la gráfica exactos\n",
    "plt.axis([-2, 2, -2, 2])\n",
    "\n",
    "plt.title('Prueba para un contorno con datos generados')"
   ]
  },
  {
   "cell_type": "markdown",
   "metadata": {},
   "source": [
    "Por último, un detalle muy importante y que puede ser de mucha utilidad: La generación de subplots. Una figura puede contener varias subgraficas, para esto hay que especificar en cuantas gráficas vamos a dividir la figura en forma de renglones y columnas, y luego seleccionar la subgráfica en la que vamos a graficar. Por ejemplo\n",
    "\n",
    "    plt.subplot(2,2,1)\n",
    "    \n",
    "significa que la figura la vamos a dividir en 2 renglones y dos columnas (cuatro subgráficas) y vamos a escribir sobre la subgráfica 1. Lo mejor es ilustrarlo con un ejemplo muy simple."
   ]
  },
  {
   "cell_type": "code",
   "execution_count": null,
   "metadata": {},
   "outputs": [],
   "source": [
    "x = np.linspace(0, 5, 1000)\n",
    "y1 = np.exp(-0.2 * x) * np.cos(2 * np.pi * x)\n",
    "y2 = np.cos(2 * np.pi * x)\n",
    "y3 = np.exp(0.2 * x) * np.cos(2 * np.pi * x)\n",
    "y4 = np.exp(-0.1 * x)\n",
    "\n",
    "plt.subplot(2, 2, 1)\n",
    "plt.plot(x, y1)\n",
    "plt.title('Estable subamortiguado')\n",
    "\n",
    "plt.subplot(2, 2, 2)\n",
    "plt.plot(x, y2)\n",
    "plt.title('Criticamente estable')\n",
    "\n",
    "plt.subplot(2, 2, 3)\n",
    "plt.plot(x, y3)\n",
    "plt.title('inestable')\n",
    "\n",
    "plt.subplot(2, 2, 4)\n",
    "plt.plot(x, y4)\n",
    "plt.title('Estable sobreamortiguado')\n",
    "\n"
   ]
  },
  {
   "cell_type": "markdown",
   "metadata": {},
   "source": [
    "### Ultimo trabajo (50 puntos)"
   ]
  },
  {
   "cell_type": "markdown",
   "metadata": {},
   "source": [
    "Realiza lo siguiente en varias celdas abajo de esta:\n",
    "\n",
    "* Genera un vector de 1000 datos aleatorios distribuidos de acuerdo a una gaussiana con media 3 y varianza .5, y otro vector con 1000 datos aleatorios distribuidos con una madia 0 y una varianza unitaria. Al concatenar los dos vectores, estás generando una serie de datos proveniente de una distribución conocida como suma de gaussianas. Para ver como es esta distribución de datos, grafíca un histograma (con un número suficiente de bins).\n",
    "\n",
    "* Genera un vector de datos de entrada `x = np.linspace(0, 1, 1000)` y grafica $\\sin(2\\pi x)$, $\\sin(4\\pi x)$, $\\sin(8\\pi x)$. ¿Que conlusión puedes sacar al respecto? Realiza la gráfica con titulo, ejes, etiquetas y todo lo necesario para que sea publicable.\n",
    "\n",
    "* Grafica la función $e^{-t}\\cos(2\\pi t)$ para $t \\in [0, 5]$. Asegurate que la gráfica sea una linea punteada de color rojo, que la gráfica tenga título, etiqueta en el eje de $t$ (tiempo), etiqueta en el eje de $y$ (voltaje en $\\mu$V), y una nota donde se escriba la ecuación simulada.\n",
    "\n",
    "* Copia el ejemplo de la galería de matplotlib http://matplotlib.org/examples/pylab_examples/shading_example.html y modificalo para que se grafique dentro de la libreta. Una vez funcionando, comenta *cada linea de código* dejando bien claro **en español y con tus palabras** que es lo que hace cada una de las lineas."
   ]
  },
  {
   "cell_type": "code",
   "execution_count": 25,
   "metadata": {},
   "outputs": [
    {
     "data": {
      "text/plain": [
       "([array([0., 0., 6., 0., 1., 0., 2., 0., 0., 1.]),\n",
       "  array([11.,  0.,  0.,  0.,  0.,  0.,  0.,  0.,  0.,  0.])],\n",
       " array([3.08092559e-04, 4.65002773e+01, 9.30002465e+01, 1.39500216e+02,\n",
       "        1.86000185e+02, 2.32500154e+02, 2.79000123e+02, 3.25500092e+02,\n",
       "        3.72000062e+02, 4.18500031e+02, 4.65000000e+02]),\n",
       " <a list of 2 Lists of Patches objects>)"
      ]
     },
     "execution_count": 25,
     "metadata": {},
     "output_type": "execute_result"
    },
    {
     "data": {
      "image/png": "[encoded data removed]",
      "text/plain": [
       "<Figure size 432x288 with 1 Axes>"
      ]
     },
     "metadata": {
      "needs_background": "light"
     },
     "output_type": "display_data"
    }
   ],
   "source": [
    "#Agrega aqui el primer problema y resualve cada problema en una celda independiente.\n",
    "X = np.random.uniform(3, .5, 1000)\n",
    "Y = np.random.uniform(0, 1, 1000)\n",
    "\n",
    "xy = np.concatenate((X,Y), 0)\n",
    "plt.hist(np.histogram(xy))\n"
   ]
  },
  {
   "cell_type": "markdown",
   "metadata": {},
   "source": []
  }
 ],
 "metadata": {
  "kernelspec": {
   "display_name": "Python 3",
   "language": "python",
   "name": "python3"
  },
  "language_info": {
   "codemirror_mode": {
    "name": "ipython",
    "version": 3
   },
   "file_extension": ".py",
   "mimetype": "text/x-python",
   "name": "python",
   "nbconvert_exporter": "python",
   "pygments_lexer": "ipython3",
   "version": "3.7.2"
  }
 },
 "nbformat": 4,
 "nbformat_minor": 1
}
